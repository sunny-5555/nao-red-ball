{
  "nbformat": 4,
  "nbformat_minor": 0,
  "metadata": {
    "colab": {
      "name": "getKeyPoints.ipynb",
      "provenance": [],
      "collapsed_sections": [],
      "include_colab_link": true
    },
    "kernelspec": {
      "name": "python3",
      "display_name": "Python 3"
    },
    "language_info": {
      "name": "python"
    }
  },
  "cells": [
    {
      "cell_type": "markdown",
      "metadata": {
        "id": "view-in-github",
        "colab_type": "text"
      },
      "source": [
        "<a href=\"https://colab.research.google.com/github/sunny-5555/nao-red-ball/blob/main/getKeyPoints.ipynb\" target=\"_parent\"><img src=\"https://colab.research.google.com/assets/colab-badge.svg\" alt=\"Open In Colab\"/></a>"
      ]
    },
    {
      "cell_type": "code",
      "source": [
        "import os\n",
        "import sys\n",
        "\n",
        "# Mount Google Drive\n",
        "if 'google.colab' in str(get_ipython()):\n",
        "  from google.colab import drive\n",
        "  drive.mount('/content/drive', force_remount=True)"
      ],
      "metadata": {
        "id": "YoOC4H1O7xgn"
      },
      "execution_count": null,
      "outputs": []
    },
    {
      "cell_type": "code",
      "source": [
        "path = '/content/drive/My Drive/Shared Folder/Nao Roboter/Generation Of Key Points/'\n",
        "sys.path.append(os.path.abspath(path))\n",
        "\n",
        "# source file\n",
        "pyFileName = 'pickup2.py' ## anpassen\n",
        "# destination file\n",
        "generatedPyFileName = 'generated_keypoints/pickup2_getkey.py' ## anpassen\n",
        "\n",
        "#with open(path + pyFileName, encoding='utf8') as f:\n",
        "#    for line in f:\n",
        "#        print(line)"
      ],
      "metadata": {
        "id": "25GwJvxqteio"
      },
      "execution_count": null,
      "outputs": []
    },
    {
      "cell_type": "code",
      "source": [
        "# source: https://stackoverflow.com/questions/1883980/find-the-nth-occurrence-of-substring-in-a-string\n",
        "def find_nth(haystack, needle, n):\n",
        "    start = haystack.find(needle)\n",
        "    while start >= 0 and n > 1:\n",
        "        start = haystack.find(needle, start+len(needle))\n",
        "        n -= 1\n",
        "    return start"
      ],
      "metadata": {
        "id": "uaXBQzgH7K-1"
      },
      "execution_count": null,
      "outputs": []
    },
    {
      "cell_type": "code",
      "source": [
        "# noch eine Datei mit write oder create öffnen\n",
        "newFile = open(path + generatedPyFileName, mode='w', encoding='utf8')\n",
        "numbersOfKeys = 8 ## anpassen\n",
        "origFuncName = \"def pickUpBall2(self):\"\n",
        "for i in range(1,numbersOfKeys + 1):\n",
        "    afterDefFunc = False\n",
        "    lastIdxTimes = 0\n",
        "    lastIdxKeys = 0\n",
        "    # in jedem Schleifendurchlauf muss die Datei um eine Zeile erweitert werden\n",
        "    with open(path + pyFileName, mode='r', encoding='utf8') as f:\n",
        "        for line in f:\n",
        "            if origFuncName in line:\n",
        "                afterDefFunc = True\n",
        "            if (afterDefFunc == False) and (i == 1):\n",
        "                newFile.write(line)\n",
        "            if afterDefFunc:\n",
        "                if \"times.append\" in line:\n",
        "                    lastIdxTimes = find_nth(line, ',', i)\n",
        "                    closedBrackets = \"])\"\n",
        "                    if i == numbersOfKeys:\n",
        "                        closedBrackets = \"\"\n",
        "                    timesLine = line[0:lastIdxTimes] + closedBrackets + \"\\n\"\n",
        "                    print(timesLine)\n",
        "                    newFile.write(timesLine)\n",
        "                elif \"keys.append\" in line:\n",
        "                    lastIdxKeys = find_nth(line, ']]', i) + 2\n",
        "                    keysLine = line[0:lastIdxKeys] + \"])\\n\"\n",
        "                    print(keysLine)\n",
        "                    newFile.write(keysLine)\n",
        "                else:\n",
        "                    l = line\n",
        "                    if origFuncName in l:\n",
        "                        l = \"\\n\\n\\n    \" + \"def pickUpBall{num}(self):\".format(num=i)\n",
        "                    newFile.write(l)\n",
        "newFile.close()"
      ],
      "metadata": {
        "id": "M1AEBKKer-Xy"
      },
      "execution_count": null,
      "outputs": []
    }
  ]
}